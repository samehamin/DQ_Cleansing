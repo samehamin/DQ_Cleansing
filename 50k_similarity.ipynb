{
 "cells": [
  {
   "cell_type": "code",
   "execution_count": 1,
   "metadata": {},
   "outputs": [],
   "source": [
    "import pandas as pd\n",
    "import numpy as np\n",
    "import re\n",
    "from IPython.display import display, HTML"
   ]
  },
  {
   "cell_type": "code",
   "execution_count": 2,
   "metadata": {},
   "outputs": [],
   "source": [
    "pd.set_option('display.max_colwidth', -1)\n",
    "\n",
    "## Columns names\n",
    "estab_name = \"Establishment Name\"\n",
    "cleaned_synon = \"Cleansing Synonyms\"\n",
    "arabic_synon = \"Arabic Synonyms\"\n",
    "reviewed_cleaned_synon = \"Cleansing Synonyms review\"\n",
    "synonym_col = \"synonym\""
   ]
  },
  {
   "cell_type": "code",
   "execution_count": 3,
   "metadata": {},
   "outputs": [],
   "source": [
    "def read_file(exten, file = None, column = None):\n",
    "    df = None\n",
    "    if exten == 'csv':\n",
    "        df = pd.read_csv('data/' + file, encoding = 'utf-8')\n",
    "    elif exten == 'excel':\n",
    "        df = pd.read_excel('data/' + file, column, encoding = 'utf-8')\n",
    "    return df\n",
    "\n",
    "def export_to_file(exten, df, file_name):\n",
    "    if exten == 'excel':\n",
    "        writer = pd.ExcelWriter(file_name)\n",
    "        df.to_excel(writer,'Sheet1')\n",
    "        writer.save()\n",
    "    elif exten == 'csv':\n",
    "        df.to_csv(file_name, encoding='utf-8', index=False)"
   ]
  },
  {
   "cell_type": "code",
   "execution_count": null,
   "metadata": {},
   "outputs": [],
   "source": [
    "data = read_file(\"csv\", \"34K_dlm_source_review02.csv\")\n",
    "data.describe(include=\"all\")"
   ]
  }
 ],
 "metadata": {
  "kernelspec": {
   "display_name": "Python 3",
   "language": "python",
   "name": "python3"
  },
  "language_info": {
   "codemirror_mode": {
    "name": "ipython",
    "version": 3
   },
   "file_extension": ".py",
   "mimetype": "text/x-python",
   "name": "python",
   "nbconvert_exporter": "python",
   "pygments_lexer": "ipython3",
   "version": "3.7.0"
  }
 },
 "nbformat": 4,
 "nbformat_minor": 2
}
