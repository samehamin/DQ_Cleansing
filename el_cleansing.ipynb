{
 "cells": [
  {
   "cell_type": "code",
   "execution_count": 2,
   "metadata": {},
   "outputs": [],
   "source": [
    "import pandas as pd\n",
    "import re"
   ]
  },
  {
   "cell_type": "code",
   "execution_count": 3,
   "metadata": {},
   "outputs": [],
   "source": [
    "def read_file(exten, file = None, column = None):\n",
    "    df = None\n",
    "    if exten == 'csv':\n",
    "        df = pd.read_csv('data/' + file, encoding = 'utf-8')\n",
    "    elif exten == 'excel':\n",
    "        df = pd.read_excel('data/' + file, column, encoding = 'utf-8')\n",
    "    return df\n",
    "\n",
    "def sort_remove_duplicates(df):\n",
    "    #df = df.sort_values(\"Establishment Name\", inplace = True) \n",
    "    df.drop_duplicates(subset = \"Establishment Name\", inplace = True)"
   ]
  },
  {
   "cell_type": "markdown",
   "metadata": {},
   "source": [
    "### DQ Reading and summary"
   ]
  },
  {
   "cell_type": "code",
   "execution_count": 4,
   "metadata": {},
   "outputs": [
    {
     "data": {
      "text/html": [
       "<div>\n",
       "<style scoped>\n",
       "    .dataframe tbody tr th:only-of-type {\n",
       "        vertical-align: middle;\n",
       "    }\n",
       "\n",
       "    .dataframe tbody tr th {\n",
       "        vertical-align: top;\n",
       "    }\n",
       "\n",
       "    .dataframe thead th {\n",
       "        text-align: right;\n",
       "    }\n",
       "</style>\n",
       "<table border=\"1\" class=\"dataframe\">\n",
       "  <thead>\n",
       "    <tr style=\"text-align: right;\">\n",
       "      <th></th>\n",
       "      <th>Establishment Name</th>\n",
       "      <th>English Synonyms</th>\n",
       "      <th>Arabic Synonyms</th>\n",
       "    </tr>\n",
       "  </thead>\n",
       "  <tbody>\n",
       "    <tr>\n",
       "      <th>count</th>\n",
       "      <td>34407</td>\n",
       "      <td>1180</td>\n",
       "      <td>1191</td>\n",
       "    </tr>\n",
       "    <tr>\n",
       "      <th>unique</th>\n",
       "      <td>33338</td>\n",
       "      <td>279</td>\n",
       "      <td>359</td>\n",
       "    </tr>\n",
       "    <tr>\n",
       "      <th>top</th>\n",
       "      <td>شركة تطوير المطاعم المتحدة</td>\n",
       "      <td>There is  no Synonym available</td>\n",
       "      <td>There is  no Synonym available</td>\n",
       "    </tr>\n",
       "    <tr>\n",
       "      <th>freq</th>\n",
       "      <td>2</td>\n",
       "      <td>902</td>\n",
       "      <td>831</td>\n",
       "    </tr>\n",
       "  </tbody>\n",
       "</table>\n",
       "</div>"
      ],
      "text/plain": [
       "                Establishment Name                English Synonyms  \\\n",
       "count                        34407                            1180   \n",
       "unique                       33338                             279   \n",
       "top     شركة تطوير المطاعم المتحدة  There is  no Synonym available   \n",
       "freq                             2                             902   \n",
       "\n",
       "                       Arabic Synonyms  \n",
       "count                             1191  \n",
       "unique                             359  \n",
       "top     There is  no Synonym available  \n",
       "freq                               831  "
      ]
     },
     "execution_count": 4,
     "metadata": {},
     "output_type": "execute_result"
    }
   ],
   "source": [
    "data = read_file(\"excel\", \"34K_Cleansing_source.xlsx\", \"Sheet1\")\n",
    "data.describe()"
   ]
  },
  {
   "cell_type": "markdown",
   "metadata": {},
   "source": [
    "### Remove duplicates"
   ]
  },
  {
   "cell_type": "code",
   "execution_count": 7,
   "metadata": {},
   "outputs": [
    {
     "data": {
      "text/html": [
       "<div>\n",
       "<style scoped>\n",
       "    .dataframe tbody tr th:only-of-type {\n",
       "        vertical-align: middle;\n",
       "    }\n",
       "\n",
       "    .dataframe tbody tr th {\n",
       "        vertical-align: top;\n",
       "    }\n",
       "\n",
       "    .dataframe thead th {\n",
       "        text-align: right;\n",
       "    }\n",
       "</style>\n",
       "<table border=\"1\" class=\"dataframe\">\n",
       "  <thead>\n",
       "    <tr style=\"text-align: right;\">\n",
       "      <th></th>\n",
       "      <th>Establishment Name</th>\n",
       "      <th>English Synonyms</th>\n",
       "      <th>Arabic Synonyms</th>\n",
       "    </tr>\n",
       "  </thead>\n",
       "  <tbody>\n",
       "    <tr>\n",
       "      <th>count</th>\n",
       "      <td>33338</td>\n",
       "      <td>1180</td>\n",
       "      <td>1191</td>\n",
       "    </tr>\n",
       "    <tr>\n",
       "      <th>unique</th>\n",
       "      <td>33338</td>\n",
       "      <td>279</td>\n",
       "      <td>359</td>\n",
       "    </tr>\n",
       "    <tr>\n",
       "      <th>top</th>\n",
       "      <td>مطعم السند والبنجاب</td>\n",
       "      <td>There is  no Synonym available</td>\n",
       "      <td>There is  no Synonym available</td>\n",
       "    </tr>\n",
       "    <tr>\n",
       "      <th>freq</th>\n",
       "      <td>1</td>\n",
       "      <td>902</td>\n",
       "      <td>831</td>\n",
       "    </tr>\n",
       "  </tbody>\n",
       "</table>\n",
       "</div>"
      ],
      "text/plain": [
       "         Establishment Name                English Synonyms  \\\n",
       "count                 33338                            1180   \n",
       "unique                33338                             279   \n",
       "top     مطعم السند والبنجاب  There is  no Synonym available   \n",
       "freq                      1                             902   \n",
       "\n",
       "                       Arabic Synonyms  \n",
       "count                             1191  \n",
       "unique                             359  \n",
       "top     There is  no Synonym available  \n",
       "freq                               831  "
      ]
     },
     "execution_count": 7,
     "metadata": {},
     "output_type": "execute_result"
    }
   ],
   "source": [
    "sort_remove_duplicates(data)\n",
    "data.describe()"
   ]
  },
  {
   "cell_type": "markdown",
   "metadata": {},
   "source": [
    "### Cleansing"
   ]
  },
  {
   "cell_type": "code",
   "execution_count": 13,
   "metadata": {},
   "outputs": [],
   "source": [
    "## Columns names\n",
    "\n",
    "\n",
    "## DQ Sources cleansing\n",
    "def pipeline_remove_specials_spaces(df):\n",
    "    tokens = df[][ re.sub(\"[^\\u0621-\\u06FF]+\", ' ', str(token)) for  token in tokens]\n",
    "    tokens = [re.sub(\"[ۭ]+\", ' ', token) for  token in tokens]\n",
    "    tokens = [token.strip() for  token in tokens if len(token.strip()) > 1]\n",
    "    return tokens"
   ]
  },
  {
   "cell_type": "code",
   "execution_count": 11,
   "metadata": {},
   "outputs": [],
   "source": [
    "data_clean = data.copy()"
   ]
  },
  {
   "cell_type": "code",
   "execution_count": null,
   "metadata": {},
   "outputs": [],
   "source": []
  }
 ],
 "metadata": {
  "kernelspec": {
   "display_name": "Python 3",
   "language": "python",
   "name": "python3"
  },
  "language_info": {
   "codemirror_mode": {
    "name": "ipython",
    "version": 3
   },
   "file_extension": ".py",
   "mimetype": "text/x-python",
   "name": "python",
   "nbconvert_exporter": "python",
   "pygments_lexer": "ipython3",
   "version": "3.7.1"
  }
 },
 "nbformat": 4,
 "nbformat_minor": 2
}
